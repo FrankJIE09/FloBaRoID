{
 "cells": [
  {
   "cell_type": "markdown",
   "metadata": {},
   "source": [
    "# iDynTree MeshcatVisualizer a simple example\n",
    "\n",
    "The `idyntree.visualize.MeshcatVisualizer` is a simple class that permits to display `iDynTree::Model` instances  in Python, for example loaded from URDF models, directly  as part of a Jupyter Notebook, thanks to the use of the [MeshCat](https://github.com/rdeits/meshcat-python), a WebGL-based 3D visualizer for Python. The API of this class is inspired by [the similar class of Pinocchio](https://gepettoweb.laas.fr/doc/stack-of-tasks/pinocchio/devel/doxygen-html/md_doc_b-examples_display_b-meshcat-viewer.html), but the iDynTree version permit to specify arbitrary joint orders for the model.\n",
    "\n",
    "To run this example, you first need to install some dependencies. It is recommend to install them via `conda`. \n",
    "If you do not have any conda distribution, it is recommended to install `mambaforge` by following the guide in [`robotology-superbuild` docs](https://github.com/robotology/robotology-superbuild/blob/v2022.11.0/doc/install-mambaforge.md). \n",
    "\n",
    "Once you have conda installed on your system, you can open a terminal and create on the fly an environment called `idyntree-jupyter` and activate it and then clone the idyntree repo:\n",
    "~~~\n",
    "mamba create -n idyntree-jupyter -c conda-forge numpy matplotlib meshcat-python idyntree icub-models ipywidgets \n",
    "mamba activate idyntree-jupyter \n",
    "~~~\n",
    "\n",
    "Then, we can clone the idyntree repo to easily open this notebook, and then we can start the `jupyter notebook` application and open the `MeshcatVisualizerExample.ipynb` file from the Jupyter Notebook user interface:\n",
    "~~~\n",
    "git clone https://github.com/robotology/idyntree \n",
    "cd idyntree/examples/python\n",
    "jupyter notebook\n",
    "~~~\n",
    "\n",
    "Once you opened the notebook in the Jupyter Notebook, you can start executing the following cells."
   ]
  },
  {
   "cell_type": "code",
   "execution_count": 1,
   "metadata": {},
   "outputs": [],
   "source": [
    "from idyntree.visualize import MeshcatVisualizer\n",
    "from icub_models import get_model_file\n",
    "import numpy as np\n",
    "import os\n",
    "from ipywidgets import interact, interactive, fixed, interact_manual\n",
    "import ipywidgets as widgets\n",
    "import numpy as np"
   ]
  },
  {
   "cell_type": "code",
   "execution_count": 2,
   "metadata": {},
   "outputs": [],
   "source": [
    "def get_model_path(robot_name='iCubGazeboV2_5'):\n",
    "    return str(get_model_file(robot_name))"
   ]
  },
  {
   "cell_type": "code",
   "execution_count": 3,
   "metadata": {},
   "outputs": [],
   "source": [
    "model_path = get_model_path()\n",
    "joint_list = [\"torso_pitch\", \"torso_roll\", \"torso_yaw\",\n",
    "              \"l_shoulder_pitch\", \"l_shoulder_roll\", \"l_shoulder_yaw\", \"l_elbow\",\n",
    "              \"r_shoulder_pitch\", \"r_shoulder_roll\", \"r_shoulder_yaw\", \"r_elbow\",\n",
    "              \"l_hip_pitch\", \"l_hip_roll\", \"l_hip_yaw\", \"l_knee\", \"l_ankle_pitch\", \"l_ankle_roll\",\n",
    "              \"r_hip_pitch\", \"r_hip_roll\", \"r_hip_yaw\", \"r_knee\", \"r_ankle_pitch\", \"r_ankle_roll\"]\n",
    "joint_dictionary = {joint: (-0.5, 0.5, 0.01) for joint in joint_list}"
   ]
  },
  {
   "cell_type": "code",
   "execution_count": 4,
   "metadata": {},
   "outputs": [
    {
     "ename": "ModuleNotFoundError",
     "evalue": "the meshcat module is not found by the idyntree MeshcatVisualizer. Please install explicitly meshcat-python (as it is not an idyntree dependency) and try again.",
     "output_type": "error",
     "traceback": [
      "\u001b[1;31m---------------------------------------------------------------------------\u001b[0m",
      "\u001b[1;31mModuleNotFoundError\u001b[0m                       Traceback (most recent call last)",
      "File \u001b[1;32mD:\\anaconda\\envs\\Mujoco_impedanceControl\\lib\\site-packages\\idyntree\\visualize\\meshcat_visualizer.py:55\u001b[0m, in \u001b[0;36mMeshcatVisualizer.__init__\u001b[1;34m(self, zmq_url)\u001b[0m\n\u001b[0;32m     54\u001b[0m \u001b[38;5;28;01mtry\u001b[39;00m:\n\u001b[1;32m---> 55\u001b[0m     \u001b[38;5;28;01mimport\u001b[39;00m \u001b[38;5;21;01mmeshcat\u001b[39;00m\n\u001b[0;32m     56\u001b[0m \u001b[38;5;28;01mexcept\u001b[39;00m \u001b[38;5;167;01mModuleNotFoundError\u001b[39;00m:\n",
      "\u001b[1;31mModuleNotFoundError\u001b[0m: No module named 'meshcat'",
      "\nDuring handling of the above exception, another exception occurred:\n",
      "\u001b[1;31mModuleNotFoundError\u001b[0m                       Traceback (most recent call last)",
      "Cell \u001b[1;32mIn[4], line 1\u001b[0m\n\u001b[1;32m----> 1\u001b[0m viz \u001b[38;5;241m=\u001b[39m \u001b[43mMeshcatVisualizer\u001b[49m\u001b[43m(\u001b[49m\u001b[43m)\u001b[49m\n\u001b[0;32m      2\u001b[0m viz\u001b[38;5;241m.\u001b[39mload_model_from_file(model_path\u001b[38;5;241m=\u001b[39mmodel_path, considered_joints\u001b[38;5;241m=\u001b[39mjoint_list, model_name\u001b[38;5;241m=\u001b[39m\u001b[38;5;124m\"\u001b[39m\u001b[38;5;124miCub\u001b[39m\u001b[38;5;124m\"\u001b[39m)\n",
      "File \u001b[1;32mD:\\anaconda\\envs\\Mujoco_impedanceControl\\lib\\site-packages\\idyntree\\visualize\\meshcat_visualizer.py:57\u001b[0m, in \u001b[0;36mMeshcatVisualizer.__init__\u001b[1;34m(self, zmq_url)\u001b[0m\n\u001b[0;32m     55\u001b[0m     \u001b[38;5;28;01mimport\u001b[39;00m \u001b[38;5;21;01mmeshcat\u001b[39;00m\n\u001b[0;32m     56\u001b[0m \u001b[38;5;28;01mexcept\u001b[39;00m \u001b[38;5;167;01mModuleNotFoundError\u001b[39;00m:\n\u001b[1;32m---> 57\u001b[0m     \u001b[38;5;28;01mraise\u001b[39;00m \u001b[38;5;167;01mModuleNotFoundError\u001b[39;00m(\u001b[38;5;124m\"\u001b[39m\u001b[38;5;124mthe meshcat module is not found by the idyntree MeshcatVisualizer. Please install explicitly meshcat-python (as it is not an idyntree dependency) and try again.\u001b[39m\u001b[38;5;124m\"\u001b[39m)\n\u001b[0;32m     59\u001b[0m \u001b[38;5;28;01mif\u001b[39;00m zmq_url \u001b[38;5;129;01mis\u001b[39;00m \u001b[38;5;129;01mnot\u001b[39;00m \u001b[38;5;28;01mNone\u001b[39;00m:\n\u001b[0;32m     60\u001b[0m     \u001b[38;5;28mprint\u001b[39m(\u001b[38;5;124m\"\u001b[39m\u001b[38;5;124mConnecting to meshcat-server at zmq_url=\u001b[39m\u001b[38;5;124m\"\u001b[39m \u001b[38;5;241m+\u001b[39m zmq_url \u001b[38;5;241m+\u001b[39m \u001b[38;5;124m\"\u001b[39m\u001b[38;5;124m.\u001b[39m\u001b[38;5;124m\"\u001b[39m)\n",
      "\u001b[1;31mModuleNotFoundError\u001b[0m: the meshcat module is not found by the idyntree MeshcatVisualizer. Please install explicitly meshcat-python (as it is not an idyntree dependency) and try again."
     ]
    }
   ],
   "source": [
    "viz = MeshcatVisualizer()\n",
    "viz.load_model_from_file(model_path=model_path, considered_joints=joint_list, model_name=\"iCub\")"
   ]
  },
  {
   "cell_type": "code",
   "execution_count": null,
   "metadata": {},
   "outputs": [],
   "source": [
    "# load primitive shape\n",
    "viz.load_sphere(radius=0.1, shape_name='sphere', color = [1, 0.7, 0, 1])\n",
    "viz.load_cylinder(radius=0.1, length =0.5, shape_name='cylinder', color = [0, 0.7, 1, 1])\n",
    "viz.load_box(x=0.1, y =0.5, z =0.7, shape_name='box', color = [0.18, 0.49, 0.2, 1])\n",
    "viz.set_primitive_geometry_transform(position=np.array([0.0, 0.5, 0.0]), rotation=np.eye(3), shape_name=\"sphere\")\n",
    "viz.set_primitive_geometry_transform(position=np.array([0.0, -0.5, 0.0]), rotation=np.eye(3), shape_name=\"cylinder\")\n",
    "viz.set_primitive_geometry_transform(position=np.array([0.0, -1, 0.0]), rotation=np.eye(3), shape_name=\"box\")"
   ]
  },
  {
   "cell_type": "code",
   "execution_count": null,
   "metadata": {},
   "outputs": [],
   "source": [
    "def update_the_model(**joint_values):\n",
    "    R = np.eye(3)\n",
    "    p = np.array([0.0, 0.0, 0.0])\n",
    "    s = np.array(list(joint_values.values()))\n",
    "    viz.set_multibody_system_state(p, R, s, model_name='iCub')"
   ]
  },
  {
   "cell_type": "code",
   "execution_count": null,
   "metadata": {},
   "outputs": [],
   "source": [
    "viz.jupyter_cell()"
   ]
  },
  {
   "cell_type": "code",
   "execution_count": null,
   "metadata": {},
   "outputs": [],
   "source": [
    "interact(update_the_model, **joint_dictionary);"
   ]
  },
  {
   "cell_type": "code",
   "execution_count": null,
   "metadata": {},
   "outputs": [],
   "source": []
  }
 ],
 "metadata": {
  "kernelspec": {
   "display_name": "Python 3 (ipykernel)",
   "language": "python",
   "name": "python3"
  },
  "language_info": {
   "codemirror_mode": {
    "name": "ipython",
    "version": 3
   },
   "file_extension": ".py",
   "mimetype": "text/x-python",
   "name": "python",
   "nbconvert_exporter": "python",
   "pygments_lexer": "ipython3",
   "version": "3.9.19"
  }
 },
 "nbformat": 4,
 "nbformat_minor": 4
}
